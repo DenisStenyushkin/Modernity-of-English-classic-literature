{
 "cells": [
  {
   "cell_type": "code",
   "execution_count": 1,
   "metadata": {
    "collapsed": true
   },
   "outputs": [],
   "source": [
    "import pandas as pd\n",
    "import numpy as np\n",
    "from nltk.tokenize import word_tokenize\n",
    "import string"
   ]
  },
  {
   "cell_type": "code",
   "execution_count": 2,
   "metadata": {},
   "outputs": [],
   "source": [
    "word_count_df = pd.read_csv('./unigram_freq.csv', index_col=0, dtype={'count': np.int64})"
   ]
  },
  {
   "cell_type": "code",
   "execution_count": 3,
   "metadata": {
    "collapsed": true
   },
   "outputs": [],
   "source": [
    "word_count_df['frequency'] = word_count_df['count'] / word_count_df['count'].sum()"
   ]
  },
  {
   "cell_type": "code",
   "execution_count": 4,
   "metadata": {
    "collapsed": true
   },
   "outputs": [],
   "source": [
    "def tokenize(source):\n",
    "    \"\"\"Tokenises the provided source.\n",
    "    Result will include only words, but not punctuation or digits\n",
    "    Args:\n",
    "        source (str): a string to tokenise\n",
    "    Returns:\n",
    "        list of str: a sequence of extracted tokens\n",
    "    \"\"\"\n",
    "\n",
    "    all_tokens = word_tokenize(source)\n",
    "    filtered_tokens = [t for t in all_tokens if t.isalpha()]\n",
    "    return list(filtered_tokens)"
   ]
  },
  {
   "cell_type": "code",
   "execution_count": 5,
   "metadata": {},
   "outputs": [],
   "source": [
    "def evaluate_text(text, scorer):\n",
    "    \"\"\"Evaluates text's modernity score according to specified scorer.\n",
    "    Args:\n",
    "        text (str): a text to evaluate\n",
    "        scorer (callable): scorer function to be applied. Must accept an iterable of tokens extracted from the text\n",
    "    Returns:\n",
    "        modernity score for the text according to the scorer\n",
    "    \"\"\"\n",
    "    tokens = tokenize(text)\n",
    "    score = scorer(tokens)\n",
    "    return score"
   ]
  },
  {
   "cell_type": "code",
   "execution_count": 6,
   "metadata": {
    "collapsed": true
   },
   "outputs": [],
   "source": [
    "from functools import reduce\n",
    "\n",
    "def average_scorer(tokens, param):\n",
    "    \"\"\"Modernity scorer that calculates an average param value of the tokens\n",
    "    Args:\n",
    "        tokens (iterable): tokens to be evaluated\n",
    "        param (str): param to be averaged\n",
    "    \"\"\"\n",
    "    def reducer(current_count, token):\n",
    "        return current_count + \\\n",
    "            word_count_df[param].get(token, 0)\n",
    "    \n",
    "    num_tokens = len(list(tokens))\n",
    "    count_sum = reduce(reducer, tokens, 0)\n",
    "    score = count_sum / num_tokens\n",
    "    return score"
   ]
  },
  {
   "cell_type": "code",
   "execution_count": 7,
   "metadata": {
    "collapsed": true
   },
   "outputs": [],
   "source": [
    "books_index = [\n",
    "    {\n",
    "        'title': 'ADVENTURES OF SHERLOCK HOLMES',\n",
    "        'author': 'A. CONAN DOYLE',\n",
    "        'year': 1892,\n",
    "        'file_name': 'Adventures Of Sherlock Holmes'\n",
    "    },    \n",
    "    {\n",
    "        'title': 'The Picture of Dorian Gray',\n",
    "        'author': 'Oscar Wilde',\n",
    "        'year': 1890,\n",
    "        'file_name': 'Dorian Gray'\n",
    "    },    \n",
    "    {\n",
    "        'title': 'Frankenstein, or, the Modern Prometheus',\n",
    "        'author': 'Mary Wollstonecraft (Godwin) Shelley',\n",
    "        'year': 1823,\n",
    "        'file_name': 'Frankenstein'\n",
    "    },    \n",
    "    {\n",
    "        'title': 'GULLIVER’S TRAVELS INTO SEVERAL REMOTE NATIONS OF THE WORLD',\n",
    "        'author': 'JONATHAN SWIFT',\n",
    "        'year': 1726,\n",
    "        'file_name': 'Gullivers travels'\n",
    "    },    \n",
    "    {\n",
    "        'title': 'THE JUNGLE BOOK',\n",
    "        'author': 'Rudyard Kipling',\n",
    "        'year': 1894,\n",
    "        'file_name': 'Jungle Book'\n",
    "    },    \n",
    "    {\n",
    "        'title': ' The Life and Adventures of Robinson Crusoe',\n",
    "        'author': 'Daniel Defoe',\n",
    "        'year': 1719,\n",
    "        'file_name': 'Robinson Crusoe'\n",
    "    },    \n",
    "    {\n",
    "        'title': 'THE TRAGEDY OF ROMEO AND JULIET',\n",
    "        'author': 'William Shakespeare',\n",
    "        'year': 1597,\n",
    "        'file_name': 'Romeo and Juliet'\n",
    "    },    \n",
    "    {\n",
    "        'title': 'The Time Machine',\n",
    "        'author': 'H. G. Wells',\n",
    "        'year': 1895,\n",
    "        'file_name': 'The Time Machine'\n",
    "    },    \n",
    "    {\n",
    "        'title': 'TREASURE ISLAND',\n",
    "        'author': 'Robert Louis Stevenson',\n",
    "        'year': 1882,\n",
    "        'file_name': 'Treasure Island'\n",
    "    },    \n",
    "    {\n",
    "        'title': 'Vanity Fair',\n",
    "        'author': 'William Makepeace Thackeray',\n",
    "        'year': 1848,\n",
    "        'file_name': 'Vanity Fair'\n",
    "    },\n",
    "]"
   ]
  },
  {
   "cell_type": "code",
   "execution_count": 8,
   "metadata": {},
   "outputs": [],
   "source": [
    "results = []\n",
    "for book in books_index:\n",
    "    with open(f\"./books/{book['file_name']}.txt\", 'rt', encoding='utf8') as f:\n",
    "        text = f.read()\n",
    "        score = evaluate_text(text, lambda tokens: average_scorer(tokens, 'frequency'))\n",
    "        results.append({\n",
    "            'book': book,\n",
    "            'score': score\n",
    "        })"
   ]
  },
  {
   "cell_type": "code",
   "execution_count": 9,
   "metadata": {},
   "outputs": [
    {
     "data": {
      "text/plain": [
       "[{'book': {'author': 'A. CONAN DOYLE',\n",
       "   'file_name': 'Adventures Of Sherlock Holmes',\n",
       "   'title': 'ADVENTURES OF SHERLOCK HOLMES',\n",
       "   'year': 1892},\n",
       "  'score': 0.0053305084959686918},\n",
       " {'book': {'author': 'Oscar Wilde',\n",
       "   'file_name': 'Dorian Gray',\n",
       "   'title': 'The Picture of Dorian Gray',\n",
       "   'year': 1890},\n",
       "  'score': 0.0048957029992236709},\n",
       " {'book': {'author': 'Mary Wollstonecraft (Godwin) Shelley',\n",
       "   'file_name': 'Frankenstein',\n",
       "   'title': 'Frankenstein, or, the Modern Prometheus',\n",
       "   'year': 1823},\n",
       "  'score': 0.0056185943888672762},\n",
       " {'book': {'author': 'JONATHAN SWIFT',\n",
       "   'file_name': 'Gullivers travels',\n",
       "   'title': 'GULLIVER’S TRAVELS INTO SEVERAL REMOTE NATIONS OF THE WORLD',\n",
       "   'year': 1726},\n",
       "  'score': 0.0058467404245888489},\n",
       " {'book': {'author': 'Rudyard Kipling',\n",
       "   'file_name': 'Jungle Book',\n",
       "   'title': 'THE JUNGLE BOOK',\n",
       "   'year': 1894},\n",
       "  'score': 0.0058010800596550033},\n",
       " {'book': {'author': 'Daniel Defoe',\n",
       "   'file_name': 'Robinson Crusoe',\n",
       "   'title': ' The Life and Adventures of Robinson Crusoe',\n",
       "   'year': 1719},\n",
       "  'score': 0.0056538366474989284},\n",
       " {'book': {'author': 'William Shakespeare',\n",
       "   'file_name': 'Romeo and Juliet',\n",
       "   'title': 'THE TRAGEDY OF ROMEO AND JULIET',\n",
       "   'year': 1597},\n",
       "  'score': 0.0033198030788745446},\n",
       " {'book': {'author': 'H. G. Wells',\n",
       "   'file_name': 'The Time Machine',\n",
       "   'title': 'The Time Machine',\n",
       "   'year': 1895},\n",
       "  'score': 0.0058698725632531168},\n",
       " {'book': {'author': 'Robert Louis Stevenson',\n",
       "   'file_name': 'Treasure Island',\n",
       "   'title': 'TREASURE ISLAND',\n",
       "   'year': 1882},\n",
       "  'score': 0.0057330737978037475},\n",
       " {'book': {'author': 'William Makepeace Thackeray',\n",
       "   'file_name': 'Vanity Fair',\n",
       "   'title': 'Vanity Fair',\n",
       "   'year': 1848},\n",
       "  'score': 0.005681170480801934}]"
      ]
     },
     "execution_count": 9,
     "metadata": {},
     "output_type": "execute_result"
    }
   ],
   "source": [
    "results"
   ]
  },
  {
   "cell_type": "code",
   "execution_count": null,
   "metadata": {
    "collapsed": true
   },
   "outputs": [],
   "source": []
  }
 ],
 "metadata": {
  "kernelspec": {
   "display_name": "Python 3",
   "language": "python",
   "name": "python3"
  },
  "language_info": {
   "codemirror_mode": {
    "name": "ipython",
    "version": 3
   },
   "file_extension": ".py",
   "mimetype": "text/x-python",
   "name": "python",
   "nbconvert_exporter": "python",
   "pygments_lexer": "ipython3",
   "version": "3.6.3"
  }
 },
 "nbformat": 4,
 "nbformat_minor": 2
}
